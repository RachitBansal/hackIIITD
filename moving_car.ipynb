{
 "cells": [
  {
   "cell_type": "code",
   "execution_count": 1,
   "metadata": {},
   "outputs": [],
   "source": [
    "import numpy as np\n",
    "import cv2\n",
    "import matplotlib.pyplot as plt\n",
    "import pandas as pd"
   ]
  },
  {
   "cell_type": "code",
   "execution_count": 44,
   "metadata": {},
   "outputs": [],
   "source": [
    "import keras \n",
    "from keras.layers import *\n",
    "from keras.models import Sequential, Model\n",
    "\n",
    "from keras.applications.inception_v3 import InceptionV3, decode_predictions\n",
    "from keras.applications.mobilenet import MobileNet, decode_predictions\n",
    "\n",
    "from keras.applications.inception_v3 import preprocess_input"
   ]
  },
  {
   "cell_type": "code",
   "execution_count": 3,
   "metadata": {},
   "outputs": [],
   "source": [
    "import os\n",
    "from PIL import Image\n",
    "import glob\n",
    "from pickle import dump, load\n",
    "from time import time"
   ]
  },
  {
   "cell_type": "code",
   "execution_count": 9,
   "metadata": {},
   "outputs": [],
   "source": [
    "from keras.preprocessing import image"
   ]
  },
  {
   "cell_type": "code",
   "execution_count": 52,
   "metadata": {},
   "outputs": [],
   "source": [
    "class moving_cars:\n",
    "    def __init__(self, video):\n",
    "        self.video = video \n",
    "        \n",
    "    def preprocess(self,path):\n",
    "        img = image.load_img(path, target_size=(224, 224))\n",
    "        x = image.img_to_array(img)\n",
    "        x = np.expand_dims(x, axis=0)\n",
    "        x = preprocess_input(x)\n",
    "        return x\n",
    "    \n",
    "    def prediction(self):\n",
    "        cars = ['streetcar', 'trailer_truck', 'freight_car', 'cab', 'hack', 'taxi', 'taxicab', 'racer', 'race_car', 'racing_car', 'jeep', 'landrover', 'minivan', 'beach_wagon', 'station_wagon', 'wagon', 'estate_car', 'beach_waggon', 'station_waggon', 'waggon', 'car_wheel']\n",
    "        model = MobileNet(weights='imagenet')\n",
    "        model_new = Model(model.input, model.layers[-1].output)\n",
    "        predictions = []\n",
    "        seconds = 1\n",
    "        fps = self.video.get(cv2.CAP_PROP_FPS) # Gets the frames per second\n",
    "        path = 'lat_img.jpg'\n",
    "        print(fps)\n",
    "#         ret, frame = self.video.read()\n",
    "#         print(ret)\n",
    "#         print(type(frame))\n",
    "#         plt.imshow(frame)\n",
    "        multiplier = fps * seconds\n",
    "        count = 0\n",
    "        \n",
    "        while(self.video.isOpened() == False):\n",
    "            print(0)\n",
    "\n",
    "        while(self.video.isOpened() == True):\n",
    "#             print(1)\n",
    "            ret, frame = self.video.read()\n",
    "#           frame = self.preprocess(frame)\n",
    "            if(ret == True):\n",
    "                frameId = int(round(self.video.get(1)))\n",
    "\n",
    "                if(frameId % round(multiplier) == 0):\n",
    "                    cv2.imwrite(path, frame)\n",
    "                    count += 1\n",
    "                    frame = self.preprocess(path)\n",
    "                    dec_preds = decode_predictions(model_new.predict(frame), top=3)[0]\n",
    "                    print(dec_preds)\n",
    "                    flag = 0\n",
    "                    # time.sleep(1)\n",
    "                    for i in range(len(dec_preds)):\n",
    "                        if(dec_preds[i][1] in cars):\n",
    "                            flag = 1\n",
    "                    predictions.append(flag)\n",
    "\n",
    "                if(count>=5):\n",
    "                    self.video.release()\n",
    "                    break\n",
    "            \n",
    "        thresh = 0\n",
    "            \n",
    "        for i in range(len(predictions)-3):\n",
    "            if thresh >= 3:\n",
    "                break\n",
    "            for j in range(i, i+3):\n",
    "                if predictions[j] == 1:\n",
    "                    thresh += 1\n",
    "                else:\n",
    "                    thresh = 0\n",
    "                        \n",
    "        if thresh>=3:\n",
    "            return True, predictions\n",
    "        else:\n",
    "            return False, predictions"
   ]
  },
  {
   "cell_type": "code",
   "execution_count": 53,
   "metadata": {},
   "outputs": [],
   "source": [
    "video = cv2.VideoCapture('moving_cars.mp4')"
   ]
  },
  {
   "cell_type": "code",
   "execution_count": 54,
   "metadata": {},
   "outputs": [],
   "source": [
    "obj = moving_cars(video)"
   ]
  },
  {
   "cell_type": "code",
   "execution_count": 55,
   "metadata": {},
   "outputs": [
    {
     "name": "stdout",
     "output_type": "stream",
     "text": [
      "29.97002997002997\n",
      "[('n03933933', 'pier', 0.19246234), ('n03895866', 'passenger_car', 0.16324644), ('n02788148', 'bannister', 0.1005062)]\n",
      "[('n04335435', 'streetcar', 0.6717405), ('n02917067', 'bullet_train', 0.072883815), ('n03769881', 'minibus', 0.06829364)]\n",
      "[('n03895866', 'passenger_car', 0.3923895), ('n04335435', 'streetcar', 0.13957189), ('n03769881', 'minibus', 0.053173676)]\n",
      "[('n03895866', 'passenger_car', 0.33240676), ('n03393912', 'freight_car', 0.13704759), ('n03457902', 'greenhouse', 0.092360705)]\n",
      "[('n03895866', 'passenger_car', 0.42356384), ('n04335435', 'streetcar', 0.29900762), ('n02917067', 'bullet_train', 0.04539743)]\n"
     ]
    }
   ],
   "source": [
    "res, preds = obj.prediction()"
   ]
  },
  {
   "cell_type": "code",
   "execution_count": 56,
   "metadata": {},
   "outputs": [
    {
     "name": "stdout",
     "output_type": "stream",
     "text": [
      "True [0, 1, 1, 1, 1]\n"
     ]
    }
   ],
   "source": [
    "print(res,preds)"
   ]
  },
  {
   "cell_type": "code",
   "execution_count": 15,
   "metadata": {},
   "outputs": [],
   "source": [
    "model = InceptionV3(weights='imagenet')\n",
    "model_new = Model(model.input, model.layers[-1].output)"
   ]
  },
  {
   "cell_type": "code",
   "execution_count": 16,
   "metadata": {},
   "outputs": [
    {
     "data": {
      "text/plain": [
       "[<keras.engine.input_layer.InputLayer at 0x7fa3f1307390>,\n",
       " <keras.layers.convolutional.Conv2D at 0x7fa3f1307b70>,\n",
       " <keras.layers.normalization.BatchNormalization at 0x7fa3f131cf28>,\n",
       " <keras.layers.core.Activation at 0x7fa3f131cc88>,\n",
       " <keras.layers.convolutional.Conv2D at 0x7fa3f1cf4e10>,\n",
       " <keras.layers.normalization.BatchNormalization at 0x7fa3f1972cf8>,\n",
       " <keras.layers.core.Activation at 0x7fa3f16e82b0>,\n",
       " <keras.layers.convolutional.Conv2D at 0x7fa3f124ae48>,\n",
       " <keras.layers.normalization.BatchNormalization at 0x7fa3f11f4eb8>,\n",
       " <keras.layers.core.Activation at 0x7fa3f11c6dd8>,\n",
       " <keras.layers.pooling.MaxPooling2D at 0x7fa3f117e518>,\n",
       " <keras.layers.convolutional.Conv2D at 0x7fa3f115a550>,\n",
       " <keras.layers.normalization.BatchNormalization at 0x7fa3f1075048>,\n",
       " <keras.layers.core.Activation at 0x7fa3f1075f98>,\n",
       " <keras.layers.convolutional.Conv2D at 0x7fa3f0fcdc18>,\n",
       " <keras.layers.normalization.BatchNormalization at 0x7fa3f102dbe0>,\n",
       " <keras.layers.core.Activation at 0x7fa3f0f6ecc0>,\n",
       " <keras.layers.pooling.MaxPooling2D at 0x7fa3f0f18048>,\n",
       " <keras.layers.convolutional.Conv2D at 0x7fa3f0bd13c8>,\n",
       " <keras.layers.normalization.BatchNormalization at 0x7fa3f0baa860>,\n",
       " <keras.layers.core.Activation at 0x7fa3f0baa6a0>,\n",
       " <keras.layers.convolutional.Conv2D at 0x7fa3f0e319e8>,\n",
       " <keras.layers.convolutional.Conv2D at 0x7fa3f0aef668>,\n",
       " <keras.layers.normalization.BatchNormalization at 0x7fa3f0d8b4e0>,\n",
       " <keras.layers.normalization.BatchNormalization at 0x7fa3f0a51fd0>,\n",
       " <keras.layers.core.Activation at 0x7fa3f0d8b320>,\n",
       " <keras.layers.core.Activation at 0x7fa3f0a51630>,\n",
       " <keras.layers.pooling.AveragePooling2D at 0x7fa3f08e7f28>,\n",
       " <keras.layers.convolutional.Conv2D at 0x7fa3f0f35dd8>,\n",
       " <keras.layers.convolutional.Conv2D at 0x7fa3f0ccd2e8>,\n",
       " <keras.layers.convolutional.Conv2D at 0x7fa3f09f5128>,\n",
       " <keras.layers.convolutional.Conv2D at 0x7fa3f0892b70>,\n",
       " <keras.layers.normalization.BatchNormalization at 0x7fa3f0e0cac8>,\n",
       " <keras.layers.normalization.BatchNormalization at 0x7fa3f0cafcf8>,\n",
       " <keras.layers.normalization.BatchNormalization at 0x7fa3f09258d0>,\n",
       " <keras.layers.normalization.BatchNormalization at 0x7fa3f086fa58>,\n",
       " <keras.layers.core.Activation at 0x7fa3f0f182b0>,\n",
       " <keras.layers.core.Activation at 0x7fa3f0caf470>,\n",
       " <keras.layers.core.Activation at 0x7fa3f096e908>,\n",
       " <keras.layers.core.Activation at 0x7fa3f07df7f0>,\n",
       " <keras.layers.merge.Concatenate at 0x7fa3f07af630>,\n",
       " <keras.layers.convolutional.Conv2D at 0x7fa3f049eeb8>,\n",
       " <keras.layers.normalization.BatchNormalization at 0x7fa3f04216d8>,\n",
       " <keras.layers.core.Activation at 0x7fa3f03c22b0>,\n",
       " <keras.layers.convolutional.Conv2D at 0x7fa3f0658390>,\n",
       " <keras.layers.convolutional.Conv2D at 0x7fa3f0363438>,\n",
       " <keras.layers.normalization.BatchNormalization at 0x7fa3f17707b8>,\n",
       " <keras.layers.normalization.BatchNormalization at 0x7fa3f02c5e48>,\n",
       " <keras.layers.core.Activation at 0x7fa431ef80b8>,\n",
       " <keras.layers.core.Activation at 0x7fa3f02c52b0>,\n",
       " <keras.layers.pooling.AveragePooling2D at 0x7fa3f010a908>,\n",
       " <keras.layers.convolutional.Conv2D at 0x7fa3f078af98>,\n",
       " <keras.layers.convolutional.Conv2D at 0x7fa3f1401f98>,\n",
       " <keras.layers.convolutional.Conv2D at 0x7fa3f026b080>,\n",
       " <keras.layers.convolutional.Conv2D at 0x7fa3f016aef0>,\n",
       " <keras.layers.normalization.BatchNormalization at 0x7fa3f070d908>,\n",
       " <keras.layers.normalization.BatchNormalization at 0x7fa3f0502a58>,\n",
       " <keras.layers.normalization.BatchNormalization at 0x7fa3f01c7a58>,\n",
       " <keras.layers.normalization.BatchNormalization at 0x7fa3f0090278>,\n",
       " <keras.layers.core.Activation at 0x7fa3f070d1d0>,\n",
       " <keras.layers.core.Activation at 0x7fa3f06b4588>,\n",
       " <keras.layers.core.Activation at 0x7fa3f01e9908>,\n",
       " <keras.layers.core.Activation at 0x7fa3f005fac8>,\n",
       " <keras.layers.merge.Concatenate at 0x7fa3f00315c0>,\n",
       " <keras.layers.convolutional.Conv2D at 0x7fa3ebcfc898>,\n",
       " <keras.layers.normalization.BatchNormalization at 0x7fa3ebc5b2e8>,\n",
       " <keras.layers.core.Activation at 0x7fa3ebc00240>,\n",
       " <keras.layers.convolutional.Conv2D at 0x7fa3ebed83c8>,\n",
       " <keras.layers.convolutional.Conv2D at 0x7fa3ebb9f208>,\n",
       " <keras.layers.normalization.BatchNormalization at 0x7fa3ebeb5cc0>,\n",
       " <keras.layers.normalization.BatchNormalization at 0x7fa3ebb00d30>,\n",
       " <keras.layers.core.Activation at 0x7fa3ebe25c50>,\n",
       " <keras.layers.core.Activation at 0x7fa3ebb00320>,\n",
       " <keras.layers.pooling.AveragePooling2D at 0x7fa3eb949898>,\n",
       " <keras.layers.convolutional.Conv2D at 0x7fa3f000bb38>,\n",
       " <keras.layers.convolutional.Conv2D at 0x7fa3ebdda048>,\n",
       " <keras.layers.convolutional.Conv2D at 0x7fa3ebaa60b8>,\n",
       " <keras.layers.convolutional.Conv2D at 0x7fa3eb9a7e80>,\n",
       " <keras.layers.normalization.BatchNormalization at 0x7fa3ebf946a0>,\n",
       " <keras.layers.normalization.BatchNormalization at 0x7fa3ebdb79b0>,\n",
       " <keras.layers.normalization.BatchNormalization at 0x7fa3eba619b0>,\n",
       " <keras.layers.normalization.BatchNormalization at 0x7fa3eb8cc208>,\n",
       " <keras.layers.core.Activation at 0x7fa3ebf08da0>,\n",
       " <keras.layers.core.Activation at 0x7fa3ebd57860>,\n",
       " <keras.layers.core.Activation at 0x7fa3eba25860>,\n",
       " <keras.layers.core.Activation at 0x7fa3eb89ea58>,\n",
       " <keras.layers.merge.Concatenate at 0x7fa3eb86d550>,\n",
       " <keras.layers.convolutional.Conv2D at 0x7fa3eb712470>,\n",
       " <keras.layers.normalization.BatchNormalization at 0x7fa3eb6efc88>,\n",
       " <keras.layers.core.Activation at 0x7fa3eb66cbe0>,\n",
       " <keras.layers.convolutional.Conv2D at 0x7fa3eb616080>,\n",
       " <keras.layers.normalization.BatchNormalization at 0x7fa3eb5f0940>,\n",
       " <keras.layers.core.Activation at 0x7fa3eb594668>,\n",
       " <keras.layers.convolutional.Conv2D at 0x7fa3eb845ac8>,\n",
       " <keras.layers.convolutional.Conv2D at 0x7fa3eb535828>,\n",
       " <keras.layers.normalization.BatchNormalization at 0x7fa3eb7ce630>,\n",
       " <keras.layers.normalization.BatchNormalization at 0x7fa3eb494198>,\n",
       " <keras.layers.core.Activation at 0x7fa3eb7bfd30>,\n",
       " <keras.layers.core.Activation at 0x7fa3eb4b91d0>,\n",
       " <keras.layers.pooling.MaxPooling2D at 0x7fa3eb3da470>,\n",
       " <keras.layers.merge.Concatenate at 0x7fa3eb393f28>,\n",
       " <keras.layers.convolutional.Conv2D at 0x7fa3eaf513c8>,\n",
       " <keras.layers.normalization.BatchNormalization at 0x7fa3eaf2bdd8>,\n",
       " <keras.layers.core.Activation at 0x7fa3eaea8b38>,\n",
       " <keras.layers.convolutional.Conv2D at 0x7fa3eae54048>,\n",
       " <keras.layers.normalization.BatchNormalization at 0x7fa3eae336a0>,\n",
       " <keras.layers.core.Activation at 0x7fa3eadd35f8>,\n",
       " <keras.layers.convolutional.Conv2D at 0x7fa3eb2bdeb8>,\n",
       " <keras.layers.convolutional.Conv2D at 0x7fa3ead74780>,\n",
       " <keras.layers.normalization.BatchNormalization at 0x7fa3eb29bda0>,\n",
       " <keras.layers.normalization.BatchNormalization at 0x7fa3eacd4208>,\n",
       " <keras.layers.core.Activation at 0x7fa3eb1ddfd0>,\n",
       " <keras.layers.core.Activation at 0x7fa3eacfa160>,\n",
       " <keras.layers.convolutional.Conv2D at 0x7fa3eb1a8eb8>,\n",
       " <keras.layers.convolutional.Conv2D at 0x7fa3eac213c8>,\n",
       " <keras.layers.normalization.BatchNormalization at 0x7fa3eb162898>,\n",
       " <keras.layers.normalization.BatchNormalization at 0x7fa3eabfdd30>,\n",
       " <keras.layers.core.Activation at 0x7fa3eb1045c0>,\n",
       " <keras.layers.core.Activation at 0x7fa3eabfd320>,\n",
       " <keras.layers.pooling.AveragePooling2D at 0x7fa3ea9c28d0>,\n",
       " <keras.layers.convolutional.Conv2D at 0x7fa3eb3f7908>,\n",
       " <keras.layers.convolutional.Conv2D at 0x7fa3eb0a7898>,\n",
       " <keras.layers.convolutional.Conv2D at 0x7fa3eab22048>,\n",
       " <keras.layers.convolutional.Conv2D at 0x7fa3eaa1cd68>,\n",
       " <keras.layers.normalization.BatchNormalization at 0x7fa3eb339128>,\n",
       " <keras.layers.normalization.BatchNormalization at 0x7fa3eb008ba8>,\n",
       " <keras.layers.normalization.BatchNormalization at 0x7fa3eaafccf8>,\n",
       " <keras.layers.normalization.BatchNormalization at 0x7fa3ea945240>,\n",
       " <keras.layers.core.Activation at 0x7fa3eb339be0>,\n",
       " <keras.layers.core.Activation at 0x7fa3eb02b198>,\n",
       " <keras.layers.core.Activation at 0x7fa3eaaa1198>,\n",
       " <keras.layers.core.Activation at 0x7fa3ea917a90>,\n",
       " <keras.layers.merge.Concatenate at 0x7fa3ea8ea588>,\n",
       " <keras.layers.convolutional.Conv2D at 0x7fa3ea45b4a8>,\n",
       " <keras.layers.normalization.BatchNormalization at 0x7fa3ea43dcc0>,\n",
       " <keras.layers.core.Activation at 0x7fa3ea3bbc18>,\n",
       " <keras.layers.convolutional.Conv2D at 0x7fa3ea364048>,\n",
       " <keras.layers.normalization.BatchNormalization at 0x7fa3ea33fc88>,\n",
       " <keras.layers.core.Activation at 0x7fa3ea2e46d8>,\n",
       " <keras.layers.convolutional.Conv2D at 0x7fa3ea78e390>,\n",
       " <keras.layers.convolutional.Conv2D at 0x7fa3ea204860>,\n",
       " <keras.layers.normalization.BatchNormalization at 0x7fa3ea76ccc0>,\n",
       " <keras.layers.normalization.BatchNormalization at 0x7fa3ea1e54a8>,\n",
       " <keras.layers.core.Activation at 0x7fa3ea6dfc18>,\n",
       " <keras.layers.core.Activation at 0x7fa3ea188278>,\n",
       " <keras.layers.convolutional.Conv2D at 0x7fa3ea690048>,\n",
       " <keras.layers.convolutional.Conv2D at 0x7fa3ea12e4a8>,\n",
       " <keras.layers.normalization.BatchNormalization at 0x7fa3ea673978>,\n",
       " <keras.layers.normalization.BatchNormalization at 0x7fa3ea0c9e80>,\n",
       " <keras.layers.core.Activation at 0x7fa3ea615160>,\n",
       " <keras.layers.core.Activation at 0x7fa3ea08f4a8>,\n",
       " <keras.layers.pooling.AveragePooling2D at 0x7fa3e9f2fe48>,\n",
       " <keras.layers.convolutional.Conv2D at 0x7fa3ea8c1b00>,\n",
       " <keras.layers.convolutional.Conv2D at 0x7fa3ea5b7860>,\n",
       " <keras.layers.convolutional.Conv2D at 0x7fa3ea032668>,\n",
       " <keras.layers.convolutional.Conv2D at 0x7fa3e9ef60b8>,\n",
       " <keras.layers.normalization.BatchNormalization at 0x7fa3ea84bef0>,\n",
       " <keras.layers.normalization.BatchNormalization at 0x7fa3ea5192e8>,\n",
       " <keras.layers.normalization.BatchNormalization at 0x7fa3e9f92ac8>,\n",
       " <keras.layers.normalization.BatchNormalization at 0x7fa3e9e5b320>,\n",
       " <keras.layers.core.Activation at 0x7fa3ea83bd68>,\n",
       " <keras.layers.core.Activation at 0x7fa3ea53c240>,\n",
       " <keras.layers.core.Activation at 0x7fa3e9fb3978>,\n",
       " <keras.layers.core.Activation at 0x7fa3e9e2aa90>,\n",
       " <keras.layers.merge.Concatenate at 0x7fa3e9dfa668>,\n",
       " <keras.layers.convolutional.Conv2D at 0x7fa3e9946a20>,\n",
       " <keras.layers.normalization.BatchNormalization at 0x7fa3e9906438>,\n",
       " <keras.layers.core.Activation at 0x7fa3e9840668>,\n",
       " <keras.layers.convolutional.Conv2D at 0x7fa3e9872048>,\n",
       " <keras.layers.normalization.BatchNormalization at 0x7fa3e97d5a90>,\n",
       " <keras.layers.core.Activation at 0x7fa3e98cf438>,\n",
       " <keras.layers.convolutional.Conv2D at 0x7fa3e9ca24a8>,\n",
       " <keras.layers.convolutional.Conv2D at 0x7fa3e9774ef0>,\n",
       " <keras.layers.normalization.BatchNormalization at 0x7fa3e9c7afd0>,\n",
       " <keras.layers.normalization.BatchNormalization at 0x7fa3e96fb400>,\n",
       " <keras.layers.core.Activation at 0x7fa3e9bf0d30>,\n",
       " <keras.layers.core.Activation at 0x7fa3e969b320>,\n",
       " <keras.layers.convolutional.Conv2D at 0x7fa3e9ba6128>,\n",
       " <keras.layers.convolutional.Conv2D at 0x7fa3e963b5c0>,\n",
       " <keras.layers.normalization.BatchNormalization at 0x7fa3e9b01dd8>,\n",
       " <keras.layers.normalization.BatchNormalization at 0x7fa3e95a0fd0>,\n",
       " <keras.layers.core.Activation at 0x7fa3e9b26940>,\n",
       " <keras.layers.core.Activation at 0x7fa3e95a0550>,\n",
       " <keras.layers.pooling.AveragePooling2D at 0x7fa3e93ec208>,\n",
       " <keras.layers.convolutional.Conv2D at 0x7fa3e9dd8908>,\n",
       " <keras.layers.convolutional.Conv2D at 0x7fa3e9aa6e10>,\n",
       " <keras.layers.convolutional.Conv2D at 0x7fa3e94c8128>,\n",
       " <keras.layers.convolutional.Conv2D at 0x7fa3e9388d30>,\n",
       " <keras.layers.normalization.BatchNormalization at 0x7fa3e9d57940>,\n",
       " <keras.layers.normalization.BatchNormalization at 0x7fa3e9a2b5c0>,\n",
       " <keras.layers.normalization.BatchNormalization at 0x7fa3e9447a90>,\n",
       " <keras.layers.normalization.BatchNormalization at 0x7fa3e9364438>,\n",
       " <keras.layers.core.Activation at 0x7fa3e9cd1f28>,\n",
       " <keras.layers.core.Activation at 0x7fa3e99cc2e8>,\n",
       " <keras.layers.core.Activation at 0x7fa3e93c1c18>,\n",
       " <keras.layers.core.Activation at 0x7fa3e933dba8>,\n",
       " <keras.layers.merge.Concatenate at 0x7fa3e928b780>,\n",
       " <keras.layers.convolutional.Conv2D at 0x7fa3e8e7c6d8>,\n",
       " <keras.layers.normalization.BatchNormalization at 0x7fa3e8de2fd0>,\n",
       " <keras.layers.core.Activation at 0x7fa3e8d54e80>,\n",
       " <keras.layers.convolutional.Conv2D at 0x7fa3e8d08160>,\n",
       " <keras.layers.normalization.BatchNormalization at 0x7fa3e8c8ba58>,\n",
       " <keras.layers.core.Activation at 0x7fa3e8c05be0>,\n",
       " <keras.layers.convolutional.Conv2D at 0x7fa3e9195898>,\n",
       " <keras.layers.convolutional.Conv2D at 0x7fa3e8c2fbe0>,\n",
       " <keras.layers.normalization.BatchNormalization at 0x7fa3e914b550>,\n",
       " <keras.layers.normalization.BatchNormalization at 0x7fa3e8b85518>,\n",
       " <keras.layers.core.Activation at 0x7fa3e9085780>,\n",
       " <keras.layers.core.Activation at 0x7fa3e8ba8470>,\n",
       " <keras.layers.convolutional.Conv2D at 0x7fa3e90b6898>,\n",
       " <keras.layers.convolutional.Conv2D at 0x7fa3e8b26710>,\n",
       " <keras.layers.normalization.BatchNormalization at 0x7fa3e9039a20>,\n",
       " <keras.layers.normalization.BatchNormalization at 0x7fa3e8aed550>,\n",
       " <keras.layers.core.Activation at 0x7fa3e8fb4be0>,\n",
       " <keras.layers.core.Activation at 0x7fa3e8ab49e8>,\n",
       " <keras.layers.pooling.AveragePooling2D at 0x7fa3e88fc3c8>,\n",
       " <keras.layers.convolutional.Conv2D at 0x7fa3e92e5da0>,\n",
       " <keras.layers.convolutional.Conv2D at 0x7fa3e8f5fbe0>,\n",
       " <keras.layers.convolutional.Conv2D at 0x7fa3e89d6940>,\n",
       " <keras.layers.convolutional.Conv2D at 0x7fa3e8898e48>,\n",
       " <keras.layers.normalization.BatchNormalization at 0x7fa3e9214198>,\n",
       " <keras.layers.normalization.BatchNormalization at 0x7fa3e8f384e0>,\n",
       " <keras.layers.normalization.BatchNormalization at 0x7fa3e8955b70>,\n",
       " <keras.layers.normalization.BatchNormalization at 0x7fa3e886c5c0>,\n",
       " <keras.layers.core.Activation at 0x7fa3e91e28d0>,\n",
       " <keras.layers.core.Activation at 0x7fa3e8ed9438>,\n",
       " <keras.layers.core.Activation at 0x7fa3e8955198>,\n",
       " <keras.layers.core.Activation at 0x7fa3e87cdcc0>,\n",
       " <keras.layers.merge.Concatenate at 0x7fa3e87f9e80>,\n",
       " <keras.layers.convolutional.Conv2D at 0x7fa3e856c2e8>,\n",
       " <keras.layers.normalization.BatchNormalization at 0x7fa3e84c6c50>,\n",
       " <keras.layers.core.Activation at 0x7fa3e8444a58>,\n",
       " <keras.layers.convolutional.Conv2D at 0x7fa3e84690f0>,\n",
       " <keras.layers.normalization.BatchNormalization at 0x7fa3e83c77b8>,\n",
       " <keras.layers.core.Activation at 0x7fa3e83e94e0>,\n",
       " <keras.layers.convolutional.Conv2D at 0x7fa3e879d860>,\n",
       " <keras.layers.convolutional.Conv2D at 0x7fa3e830d7b8>,\n",
       " <keras.layers.normalization.BatchNormalization at 0x7fa3e87213c8>,\n",
       " <keras.layers.normalization.BatchNormalization at 0x7fa3e832a748>,\n",
       " <keras.layers.core.Activation at 0x7fa3e86f59b0>,\n",
       " <keras.layers.core.Activation at 0x7fa3e82ed128>,\n",
       " <keras.layers.convolutional.Conv2D at 0x7fa3e8699978>,\n",
       " <keras.layers.convolutional.Conv2D at 0x7fa3e823e2e8>,\n",
       " <keras.layers.normalization.BatchNormalization at 0x7fa3e865c748>,\n",
       " <keras.layers.normalization.BatchNormalization at 0x7fa3e81d6cc0>,\n",
       " <keras.layers.core.Activation at 0x7fa3e861e128>,\n",
       " <keras.layers.core.Activation at 0x7fa3e8199470>,\n",
       " <keras.layers.pooling.MaxPooling2D at 0x7fa3e80c04a8>,\n",
       " <keras.layers.merge.Concatenate at 0x7fa3e80dcf28>,\n",
       " <keras.layers.convolutional.Conv2D at 0x7fa3e7c69e10>,\n",
       " <keras.layers.normalization.BatchNormalization at 0x7fa3e7c2e5f8>,\n",
       " <keras.layers.core.Activation at 0x7fa3e7b86be0>,\n",
       " <keras.layers.convolutional.Conv2D at 0x7fa3e7fe2748>,\n",
       " <keras.layers.convolutional.Conv2D at 0x7fa3e7bb1a20>,\n",
       " <keras.layers.normalization.BatchNormalization at 0x7fa3e7fbf6a0>,\n",
       " <keras.layers.normalization.BatchNormalization at 0x7fa3e7b36358>,\n",
       " <keras.layers.core.Activation at 0x7fa3e7f615f8>,\n",
       " <keras.layers.core.Activation at 0x7fa3e7adc048>,\n",
       " <keras.layers.convolutional.Conv2D at 0x7fa3e7e83710>,\n",
       " <keras.layers.convolutional.Conv2D at 0x7fa3e7d8f978>,\n",
       " <keras.layers.convolutional.Conv2D at 0x7fa3e7a03358>,\n",
       " <keras.layers.convolutional.Conv2D at 0x7fa3e7903518>,\n",
       " <keras.layers.pooling.AveragePooling2D at 0x7fa3e7801f60>,\n",
       " <keras.layers.convolutional.Conv2D at 0x7fa3e80f5630>,\n",
       " <keras.layers.normalization.BatchNormalization at 0x7fa3e7ea4588>,\n",
       " <keras.layers.normalization.BatchNormalization at 0x7fa3e7d0aba8>,\n",
       " <keras.layers.normalization.BatchNormalization at 0x7fa3e7a1bd30>,\n",
       " <keras.layers.normalization.BatchNormalization at 0x7fa3e7883710>,\n",
       " <keras.layers.convolutional.Conv2D at 0x7fa3e77c5390>,\n",
       " <keras.layers.normalization.BatchNormalization at 0x7fa3e80bd668>,\n",
       " <keras.layers.core.Activation at 0x7fa3e7e63198>,\n",
       " <keras.layers.core.Activation at 0x7fa3e7c8b9b0>,\n",
       " <keras.layers.core.Activation at 0x7fa3e79db518>,\n",
       " <keras.layers.core.Activation at 0x7fa3e7898e10>,\n",
       " <keras.layers.normalization.BatchNormalization at 0x7fa3e7700ef0>,\n",
       " <keras.layers.core.Activation at 0x7fa3e803de10>,\n",
       " <keras.layers.merge.Concatenate at 0x7fa3e7cb33c8>,\n",
       " <keras.layers.merge.Concatenate at 0x7fa3e7827828>,\n",
       " <keras.layers.core.Activation at 0x7fa3e78019b0>,\n",
       " <keras.layers.merge.Concatenate at 0x7fa3e76d3160>,\n",
       " <keras.layers.convolutional.Conv2D at 0x7fa3e727bf28>,\n",
       " <keras.layers.normalization.BatchNormalization at 0x7fa3e71a3b38>,\n",
       " <keras.layers.core.Activation at 0x7fa3e72225c0>,\n",
       " <keras.layers.convolutional.Conv2D at 0x7fa3e75f5470>,\n",
       " <keras.layers.convolutional.Conv2D at 0x7fa3e714b080>,\n",
       " <keras.layers.normalization.BatchNormalization at 0x7fa3e7551f28>,\n",
       " <keras.layers.normalization.BatchNormalization at 0x7fa3e70cea20>,\n",
       " <keras.layers.core.Activation at 0x7fa3e74c4cf8>,\n",
       " <keras.layers.core.Activation at 0x7fa3e70cea90>,\n",
       " <keras.layers.convolutional.Conv2D at 0x7fa3e74f40f0>,\n",
       " <keras.layers.convolutional.Conv2D at 0x7fa3e73faa90>,\n",
       " <keras.layers.convolutional.Conv2D at 0x7fa3e704bf28>,\n",
       " <keras.layers.convolutional.Conv2D at 0x7fa3e6f166a0>,\n",
       " <keras.layers.pooling.AveragePooling2D at 0x7fa3e6e1ce48>,\n",
       " <keras.layers.convolutional.Conv2D at 0x7fa3e76d3518>,\n",
       " <keras.layers.normalization.BatchNormalization at 0x7fa3e7453d68>,\n",
       " <keras.layers.normalization.BatchNormalization at 0x7fa3e737d390>,\n",
       " <keras.layers.normalization.BatchNormalization at 0x7fa3e6fcc4e0>,\n",
       " <keras.layers.normalization.BatchNormalization at 0x7fa3e6ef90f0>,\n",
       " <keras.layers.convolutional.Conv2D at 0x7fa3e6dd6080>,\n",
       " <keras.layers.normalization.BatchNormalization at 0x7fa3e76ab1d0>,\n",
       " <keras.layers.core.Activation at 0x7fa3e747b208>,\n",
       " <keras.layers.core.Activation at 0x7fa3e73212e8>,\n",
       " <keras.layers.core.Activation at 0x7fa3e6ff0438>,\n",
       " <keras.layers.core.Activation at 0x7fa3e6e6cd68>,\n",
       " <keras.layers.normalization.BatchNormalization at 0x7fa3e6d1aeb8>,\n",
       " <keras.layers.core.Activation at 0x7fa3e7623ef0>,\n",
       " <keras.layers.merge.Concatenate at 0x7fa3e7240438>,\n",
       " <keras.layers.merge.Concatenate at 0x7fa3e6e1c208>,\n",
       " <keras.layers.core.Activation at 0x7fa3e6d1a828>,\n",
       " <keras.layers.merge.Concatenate at 0x7fa3e6cc29b0>,\n",
       " <keras.layers.pooling.GlobalAveragePooling2D at 0x7fa3e6cc21d0>,\n",
       " <keras.layers.core.Dense at 0x7fa3e6cf7828>]"
      ]
     },
     "execution_count": 16,
     "metadata": {},
     "output_type": "execute_result"
    }
   ],
   "source": [
    "model_new.layers"
   ]
  },
  {
   "cell_type": "code",
   "execution_count": 13,
   "metadata": {},
   "outputs": [],
   "source": [
    "img=cv2.imread('car.jpg')"
   ]
  },
  {
   "cell_type": "code",
   "execution_count": 24,
   "metadata": {},
   "outputs": [
    {
     "name": "stdout",
     "output_type": "stream",
     "text": [
      "[('n02814533', 'beach_wagon', 0.65326256), ('n02974003', 'car_wheel', 0.045594484), ('n04285008', 'sports_car', 0.018694416)]\n"
     ]
    }
   ],
   "source": [
    "preds = model_new.predict(preprocess('car.jpg'))\n",
    "print(decode_predictions(preds, top=3)[0])"
   ]
  },
  {
   "cell_type": "code",
   "execution_count": null,
   "metadata": {},
   "outputs": [],
   "source": []
  },
  {
   "cell_type": "code",
   "execution_count": 23,
   "metadata": {},
   "outputs": [],
   "source": [
    "def preprocess(image_path):\n",
    "    # Convert all the images to size 299x299 as expected by the inception v3 model\n",
    "    img = image.load_img(image_path, target_size=(299, 299))\n",
    "    # Convert PIL image to numpy array of 3-dimensions\n",
    "    x = image.img_to_array(img)\n",
    "    # Add one more dimension\n",
    "    x = np.expand_dims(x, axis=0)\n",
    "    # preprocess the images using preprocess_input() from inception module\n",
    "    x = preprocess_input(x)\n",
    "    return x"
   ]
  },
  {
   "cell_type": "code",
   "execution_count": 64,
   "metadata": {},
   "outputs": [],
   "source": [
    "cars = ['streetcar', 'trailer_truck', 'freight_car', 'cab', 'hack', 'taxi', 'taxicab', 'racer', 'race_car', 'racing_car', 'jeep', 'landrover', 'minivan', 'beach_wagon', 'station_wagon', 'wagon', 'estate_car', 'beach_waggon', 'station_waggon', 'waggon', 'car_wheel']"
   ]
  },
  {
   "cell_type": "code",
   "execution_count": 131,
   "metadata": {},
   "outputs": [],
   "source": [
    "img = cv2.imread('car.jpg')"
   ]
  },
  {
   "cell_type": "code",
   "execution_count": 134,
   "metadata": {},
   "outputs": [],
   "source": [
    "img = preprocess(img)"
   ]
  },
  {
   "cell_type": "code",
   "execution_count": 5,
   "metadata": {},
   "outputs": [
    {
     "name": "stdout",
     "output_type": "stream",
     "text": [
      "WARNING:tensorflow:From /home/rachit/.local/lib/python3.7/site-packages/tensorflow/python/framework/op_def_library.py:263: colocate_with (from tensorflow.python.framework.ops) is deprecated and will be removed in a future version.\n",
      "Instructions for updating:\n",
      "Colocations handled automatically by placer.\n"
     ]
    }
   ],
   "source": [
    "model = InceptionV3(weights='imagenet')"
   ]
  },
  {
   "cell_type": "code",
   "execution_count": 37,
   "metadata": {},
   "outputs": [],
   "source": [
    "# model.layers"
   ]
  },
  {
   "cell_type": "code",
   "execution_count": 129,
   "metadata": {},
   "outputs": [],
   "source": [
    "model_new = Model(model.input, model.layers[-1].output)"
   ]
  },
  {
   "cell_type": "code",
   "execution_count": 135,
   "metadata": {},
   "outputs": [],
   "source": [
    "preds = model_new.predict(img)"
   ]
  },
  {
   "cell_type": "code",
   "execution_count": 136,
   "metadata": {},
   "outputs": [
    {
     "data": {
      "text/plain": [
       "(1, 1000)"
      ]
     },
     "execution_count": 136,
     "metadata": {},
     "output_type": "execute_result"
    }
   ],
   "source": [
    "preds.shape"
   ]
  },
  {
   "cell_type": "code",
   "execution_count": 137,
   "metadata": {},
   "outputs": [
    {
     "name": "stdout",
     "output_type": "stream",
     "text": [
      "[858]\n"
     ]
    }
   ],
   "source": [
    "print(np.argmax(preds, axis=1))"
   ]
  },
  {
   "cell_type": "code",
   "execution_count": 139,
   "metadata": {},
   "outputs": [],
   "source": [
    "dec_preds = decode_predictions(preds, top= 3)[0]"
   ]
  },
  {
   "cell_type": "code",
   "execution_count": 140,
   "metadata": {},
   "outputs": [
    {
     "name": "stdout",
     "output_type": "stream",
     "text": [
      "[('n04435653', 'tile_roof', 0.22112648), ('n04258138', 'solar_dish', 0.19232452), ('n04590129', 'window_shade', 0.048474528)]\n"
     ]
    }
   ],
   "source": [
    "print(dec_preds)"
   ]
  },
  {
   "cell_type": "code",
   "execution_count": 35,
   "metadata": {},
   "outputs": [],
   "source": [
    "flag = 0\n",
    "for i in range(len(dec_preds)):\n",
    "    if(dec_preds[i][1] in cars[:-2]):\n",
    "        flag = 1"
   ]
  },
  {
   "cell_type": "code",
   "execution_count": 36,
   "metadata": {},
   "outputs": [
    {
     "name": "stdout",
     "output_type": "stream",
     "text": [
      "1\n"
     ]
    }
   ],
   "source": [
    "print(flag)"
   ]
  },
  {
   "cell_type": "code",
   "execution_count": 47,
   "metadata": {},
   "outputs": [],
   "source": [
    "import time"
   ]
  },
  {
   "cell_type": "code",
   "execution_count": 68,
   "metadata": {},
   "outputs": [],
   "source": [
    "video = cv2.VideoCapture('moving_cars.mp4')\n",
    "predictions = []\n",
    "path = 'lat_frame.jpg'\n",
    "seconds = 1\n",
    "fps = video.get(cv2.CAP_PROP_FPS) # Gets the frames per second\n",
    "multiplier = fps * seconds\n",
    "count = 0\n",
    "    \n",
    "while(video.isOpened() == True):\n",
    "    ret, frame = video.read()\n",
    "    if(ret == True):\n",
    "        frameId = int(round(video.get(1)))\n",
    "        \n",
    "        if(frameId % round(multiplier) == 0):\n",
    "            cv2.imwrite(path, frame)\n",
    "            count += 1\n",
    "            frame = preprocess(path)\n",
    "            dec_preds = decode_predictions(model_new.predict(frame), top=3)[0]\n",
    "#             print(dec_preds)\n",
    "            flag = 0\n",
    "            # time.sleep(1)\n",
    "            for i in range(len(dec_preds)):\n",
    "                if(dec_preds[i][1] in cars):\n",
    "                    flag = 1\n",
    "            predictions.append(flag)\n",
    "                    \n",
    "        if(count>=10):\n",
    "            video.release()\n",
    "        "
   ]
  },
  {
   "cell_type": "code",
   "execution_count": 69,
   "metadata": {},
   "outputs": [
    {
     "name": "stdout",
     "output_type": "stream",
     "text": [
      "[1, 1, 1, 1, 1, 1, 1, 1, 1, 1]\n"
     ]
    }
   ],
   "source": [
    "print(predictions)"
   ]
  },
  {
   "cell_type": "code",
   "execution_count": null,
   "metadata": {},
   "outputs": [],
   "source": []
  }
 ],
 "metadata": {
  "kernelspec": {
   "display_name": "Python 3",
   "language": "python",
   "name": "python3"
  },
  "language_info": {
   "codemirror_mode": {
    "name": "ipython",
    "version": 3
   },
   "file_extension": ".py",
   "mimetype": "text/x-python",
   "name": "python",
   "nbconvert_exporter": "python",
   "pygments_lexer": "ipython3",
   "version": "3.7.3"
  }
 },
 "nbformat": 4,
 "nbformat_minor": 2
}
